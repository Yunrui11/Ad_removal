{
 "cells": [
  {
   "cell_type": "markdown",
   "metadata": {},
   "source": [
    "## Testing dataset"
   ]
  },
  {
   "cell_type": "code",
   "execution_count": 1,
   "metadata": {},
   "outputs": [],
   "source": [
    "import pandas as pd\n",
    "\n",
    "df_ads = pd.read_csv('trial_200.csv')\n",
    "\n",
    "# SELECT cc_text, ad FROM ads_nonads\n",
    "df_ads = df_ads[[\"cc_text\"]]"
   ]
  },
  {
   "cell_type": "code",
   "execution_count": 2,
   "metadata": {},
   "outputs": [
    {
     "name": "stdout",
     "output_type": "stream",
     "text": [
      "                                             cc_text\n",
      "0  Projects were rebuilding America and were incl...\n",
      "1  Need to get your a1c down? You may pay as litt...\n",
      "2  it's gonna help you and your relationship befo...\n",
      "3  Of other countries. More analysis there, too, ...\n",
      "4  Managing your diabetes just got easier. I'd sa...\n",
      "(200, 1)\n",
      "<class 'pandas.core.frame.DataFrame'>\n",
      "RangeIndex: 200 entries, 0 to 199\n",
      "Data columns (total 1 columns):\n",
      " #   Column   Non-Null Count  Dtype \n",
      "---  ------   --------------  ----- \n",
      " 0   cc_text  200 non-null    object\n",
      "dtypes: object(1)\n",
      "memory usage: 1.7+ KB\n",
      "None\n"
     ]
    }
   ],
   "source": [
    "print(df_ads.head())\n",
    "print(df_ads.shape)\n",
    "print(df_ads.info())"
   ]
  },
  {
   "cell_type": "markdown",
   "metadata": {},
   "source": [
    "## Data Cleaning"
   ]
  },
  {
   "cell_type": "code",
   "execution_count": 3,
   "metadata": {},
   "outputs": [
    {
     "name": "stdout",
     "output_type": "stream",
     "text": [
      "(200, 1)\n",
      "(200, 1)\n",
      "(200, 1)\n"
     ]
    }
   ],
   "source": [
    "# drop rows with any missing values\n",
    "df_ads = df_ads.dropna()\n",
    "print(df_ads.shape)\n",
    "# drop duplicate rows\n",
    "#df_ads = df_ads.drop_duplicates()\n",
    "print(df_ads.shape)\n",
    "# drop rows where 'ad' is not 0 or 1\n",
    "#df_ads = df_ads[df_ads['labels'].isin([0, 1])]\n",
    "print(df_ads.shape)\n",
    "\n",
    "# Convert 'cc_text' column to string\n",
    "df_ads['cc_text'] = df_ads['cc_text'].astype(str)\n",
    "# Convert 'ad' column to integer\n",
    "#df_ads['labels'] = df_ads['labels'].astype(int)\n"
   ]
  },
  {
   "cell_type": "code",
   "execution_count": 12,
   "metadata": {},
   "outputs": [],
   "source": [
    "# data check after cleaning\n",
    "#print(df_ads[\"labels\"].value_counts())"
   ]
  },
  {
   "cell_type": "code",
   "execution_count": 4,
   "metadata": {},
   "outputs": [],
   "source": [
    "#new\n",
    "import re\n",
    "\n",
    "def clean_text(text):\n",
    "    # Remove everything within HTML tags\n",
    "    text = re.sub(r'<.*?>', '', text)\n",
    "    # lower case \n",
    "    text = text.lower()\n",
    "    # Remove special characters except for commas and periods\n",
    "    text = re.sub(r'[^a-z\\s,.]', '', text)\n",
    "    # Remove special characters at the beginning of the sentence\n",
    "    # text = re.sub(r'^[^A-Za-z0-9\\s]+', '', text)\n",
    "    # Remove extra spaces\n",
    "    text = re.sub(r'\\s+', ' ', text).strip()\n",
    "    \n",
    "    return text"
   ]
  },
  {
   "cell_type": "code",
   "execution_count": 5,
   "metadata": {},
   "outputs": [],
   "source": [
    "import re\n",
    "\n",
    "def clean_text(text):\n",
    "    # Remove everything within HTML tags\n",
    "    text = re.sub(r'<.*?>', '', text)\n",
    "    # Remove special characters at the beginning of the sentence\n",
    "    text = re.sub(r'^[^A-Za-z0-9\\s]+', '', text)\n",
    "    # Remove extra spaces\n",
    "    text = re.sub(r'\\s+', ' ', text).strip()\n",
    "    \n",
    "    return text\n"
   ]
  },
  {
   "cell_type": "code",
   "execution_count": 5,
   "metadata": {},
   "outputs": [
    {
     "name": "stdout",
     "output_type": "stream",
     "text": [
      "and in the first hundred days in his office, he delivered something to you that hasnt been delivered to the cities of america since eisenhower was in office. thats a receipt that we never, ever going to forget. and as a consequence of all of this legislation, the president has created million jobs. we have the lowest unemployment rate in the history of the united states for the last years, the lowest unemployment rate for africanamericans, for hispanics. count it any way you want. this economy is blowing and going. but the president knows that this economy is not treating everybody equally. thats why hes going after big pharma. thats why hes going after the big oil and gas industries. thats why hes going after the big grocery store chains to not to quit profit taking and to let those costs go down, just like now. that costs because of supply chains have been lifted. and that is what president biden has spent his time doing. and hes going to continue to do that because it works. but, ladies and gentlemen, our freedoms are at stake. we now have a supreme court that doesnt respect the most basic.\n"
     ]
    }
   ],
   "source": [
    "sample_1 = clean_text(df_ads[\"cc_text\"][108])\n",
    "print(sample_1)"
   ]
  },
  {
   "cell_type": "code",
   "execution_count": 6,
   "metadata": {},
   "outputs": [
    {
     "name": "stdout",
     "output_type": "stream",
     "text": [
      "teachers union. he is owned by the teachers union. governor newsom we will never cross dash. governor desantis lock, stop, and real. governor newsom lets talk about your record on covert on covert. he passed an emergency declaration. to close down your beaches, its bars, restaurants. it is a fact. you had quarantines. you had quarantines. you had checkpoints all over the state of florida. by the way, i did not say that. donald trump laid you out on this. you did that. he followed science. apollo tax. you follow science. governor desantis that is not true. governor newsom you follow tajik. you were promoting vaccines. sean we were open. you were close. governor newsom if it is okay with you overlapping speakers governor desantis wire you closed for so long sean im trying to let it breathe. governor newsom he did all of that until he decided to fall prey to the fringe of his party\n"
     ]
    }
   ],
   "source": [
    "sample_2 = clean_text(df_ads[\"cc_text\"][11])\n",
    "print(sample_2)"
   ]
  },
  {
   "cell_type": "code",
   "execution_count": 7,
   "metadata": {},
   "outputs": [],
   "source": [
    "# Apply clean_text function to cc_text column\n",
    "df_ads[\"cc_text\"] = df_ads[\"cc_text\"].apply(clean_text)"
   ]
  },
  {
   "cell_type": "code",
   "execution_count": 8,
   "metadata": {},
   "outputs": [
    {
     "data": {
      "text/html": [
       "<div>\n",
       "<style scoped>\n",
       "    .dataframe tbody tr th:only-of-type {\n",
       "        vertical-align: middle;\n",
       "    }\n",
       "\n",
       "    .dataframe tbody tr th {\n",
       "        vertical-align: top;\n",
       "    }\n",
       "\n",
       "    .dataframe thead th {\n",
       "        text-align: right;\n",
       "    }\n",
       "</style>\n",
       "<table border=\"1\" class=\"dataframe\">\n",
       "  <thead>\n",
       "    <tr style=\"text-align: right;\">\n",
       "      <th></th>\n",
       "      <th>cc_text</th>\n",
       "    </tr>\n",
       "  </thead>\n",
       "  <tbody>\n",
       "    <tr>\n",
       "      <th>0</th>\n",
       "      <td>projects were rebuilding america and were incl...</td>\n",
       "    </tr>\n",
       "    <tr>\n",
       "      <th>1</th>\n",
       "      <td>need to get your ac down you may pay as little...</td>\n",
       "    </tr>\n",
       "    <tr>\n",
       "      <th>2</th>\n",
       "      <td>its gonna help you and your relationship befor...</td>\n",
       "    </tr>\n",
       "    <tr>\n",
       "      <th>3</th>\n",
       "      <td>of other countries. more analysis there, too, ...</td>\n",
       "    </tr>\n",
       "    <tr>\n",
       "      <th>4</th>\n",
       "      <td>managing your diabetes just got easier. id say...</td>\n",
       "    </tr>\n",
       "  </tbody>\n",
       "</table>\n",
       "</div>"
      ],
      "text/plain": [
       "                                             cc_text\n",
       "0  projects were rebuilding america and were incl...\n",
       "1  need to get your ac down you may pay as little...\n",
       "2  its gonna help you and your relationship befor...\n",
       "3  of other countries. more analysis there, too, ...\n",
       "4  managing your diabetes just got easier. id say..."
      ]
     },
     "execution_count": 8,
     "metadata": {},
     "output_type": "execute_result"
    }
   ],
   "source": [
    "df_ads.head()"
   ]
  },
  {
   "cell_type": "code",
   "execution_count": 9,
   "metadata": {},
   "outputs": [],
   "source": [
    "from transformers import pipeline\n",
    "classifier = pipeline('text-classification', model=\"bert-base-uncased-adremoval_testingdata\")"
   ]
  },
  {
   "cell_type": "code",
   "execution_count": 10,
   "metadata": {},
   "outputs": [],
   "source": [
    "# Define a function to get predictions and scores\n",
    "def get_predictions(text):\n",
    "    result = classifier(text)\n",
    "    return result[0]['label'], result[0]['score']"
   ]
  },
  {
   "cell_type": "code",
   "execution_count": 11,
   "metadata": {},
   "outputs": [],
   "source": [
    "# Apply the function to each row in the DataFrame\n",
    "df_ads['predicted_label'], df_ads['prediction_score'] = zip(*df_ads['cc_text'].apply(get_predictions))"
   ]
  },
  {
   "cell_type": "code",
   "execution_count": 12,
   "metadata": {},
   "outputs": [
    {
     "data": {
      "text/html": [
       "<div>\n",
       "<style scoped>\n",
       "    .dataframe tbody tr th:only-of-type {\n",
       "        vertical-align: middle;\n",
       "    }\n",
       "\n",
       "    .dataframe tbody tr th {\n",
       "        vertical-align: top;\n",
       "    }\n",
       "\n",
       "    .dataframe thead th {\n",
       "        text-align: right;\n",
       "    }\n",
       "</style>\n",
       "<table border=\"1\" class=\"dataframe\">\n",
       "  <thead>\n",
       "    <tr style=\"text-align: right;\">\n",
       "      <th></th>\n",
       "      <th>cc_text</th>\n",
       "      <th>predicted_label</th>\n",
       "      <th>prediction_score</th>\n",
       "    </tr>\n",
       "  </thead>\n",
       "  <tbody>\n",
       "    <tr>\n",
       "      <th>0</th>\n",
       "      <td>projects were rebuilding america and were incl...</td>\n",
       "      <td>LABEL_0</td>\n",
       "      <td>0.691484</td>\n",
       "    </tr>\n",
       "    <tr>\n",
       "      <th>1</th>\n",
       "      <td>need to get your ac down you may pay as little...</td>\n",
       "      <td>LABEL_1</td>\n",
       "      <td>0.806898</td>\n",
       "    </tr>\n",
       "    <tr>\n",
       "      <th>2</th>\n",
       "      <td>its gonna help you and your relationship befor...</td>\n",
       "      <td>LABEL_0</td>\n",
       "      <td>0.632561</td>\n",
       "    </tr>\n",
       "    <tr>\n",
       "      <th>3</th>\n",
       "      <td>of other countries. more analysis there, too, ...</td>\n",
       "      <td>LABEL_1</td>\n",
       "      <td>0.830386</td>\n",
       "    </tr>\n",
       "    <tr>\n",
       "      <th>4</th>\n",
       "      <td>managing your diabetes just got easier. id say...</td>\n",
       "      <td>LABEL_1</td>\n",
       "      <td>0.898113</td>\n",
       "    </tr>\n",
       "  </tbody>\n",
       "</table>\n",
       "</div>"
      ],
      "text/plain": [
       "                                             cc_text predicted_label  \\\n",
       "0  projects were rebuilding america and were incl...         LABEL_0   \n",
       "1  need to get your ac down you may pay as little...         LABEL_1   \n",
       "2  its gonna help you and your relationship befor...         LABEL_0   \n",
       "3  of other countries. more analysis there, too, ...         LABEL_1   \n",
       "4  managing your diabetes just got easier. id say...         LABEL_1   \n",
       "\n",
       "   prediction_score  \n",
       "0          0.691484  \n",
       "1          0.806898  \n",
       "2          0.632561  \n",
       "3          0.830386  \n",
       "4          0.898113  "
      ]
     },
     "execution_count": 12,
     "metadata": {},
     "output_type": "execute_result"
    }
   ],
   "source": [
    "df_ads.head()"
   ]
  },
  {
   "cell_type": "code",
   "execution_count": 14,
   "metadata": {},
   "outputs": [],
   "source": [
    "df_ads.to_csv('trial.xlsx', index=False)"
   ]
  },
  {
   "cell_type": "code",
   "execution_count": 13,
   "metadata": {},
   "outputs": [],
   "source": [
    "# Calculate accuracy metrics\n",
    "from sklearn.metrics import accuracy_score, precision_recall_fscore_support\n",
    "\n",
    "# Convert label strings to integers\n",
    "df_ads['predicted_label'] = df_ads['predicted_label'].apply(lambda x: 1 if x == 'LABEL_1' else 0)\n",
    "\n",
    "# Calculate accuracy\n",
    "#accuracy = accuracy_score(df_ads['labels'], df_ads['predicted_label'])\n",
    "#precision, recall, f1, _ = precision_recall_fscore_support(df_ads['labels'], df_ads['predicted_label'], average='binary')\n",
    "\n",
    "#print(f\"Accuracy: {accuracy}\")\n",
    "#print(f\"Precision: {precision}\")\n",
    "#print(f\"Recall: {recall}\")\n",
    "#print(f\"F1 Score: {f1}\")"
   ]
  },
  {
   "cell_type": "code",
   "execution_count": 15,
   "metadata": {},
   "outputs": [],
   "source": [
    "# Identify mislabeled rows\n",
    "mislabeled = df_ads[df_ads['labels'] != df_ads[\"predicted_label\"]]"
   ]
  },
  {
   "cell_type": "code",
   "execution_count": 20,
   "metadata": {},
   "outputs": [],
   "source": [
    "mislabeled.to_csv('mislabeled.csv', index=False)"
   ]
  }
 ],
 "metadata": {
  "kernelspec": {
   "display_name": "base",
   "language": "python",
   "name": "python3"
  },
  "language_info": {
   "codemirror_mode": {
    "name": "ipython",
    "version": 3
   },
   "file_extension": ".py",
   "mimetype": "text/x-python",
   "name": "python",
   "nbconvert_exporter": "python",
   "pygments_lexer": "ipython3",
   "version": "3.11.7"
  }
 },
 "nbformat": 4,
 "nbformat_minor": 2
}
