{
 "cells": [
  {
   "cell_type": "markdown",
   "metadata": {},
   "source": [
    "## Data Cleaning: "
   ]
  },
  {
   "cell_type": "markdown",
   "metadata": {},
   "source": [
    "### Import Data: "
   ]
  },
  {
   "cell_type": "code",
   "execution_count": 1,
   "metadata": {},
   "outputs": [
    {
     "name": "stderr",
     "output_type": "stream",
     "text": [
      "C:\\Users\\rbao\\AppData\\Local\\Temp\\ipykernel_18060\\302034902.py:3: DtypeWarning: Columns (2,3,4,5,6,7,8,9,10,11,12,13,14,15,16,17,18,19,20,21,22,23,24,25,26,27,28,29,30,31,32,33,34,35,36,37,38,39,40,41,42,43,44,45,46,47,48,49,50,51,52,53,54,55,56,57,58,59,60,61,62,63,64,65,66,67,68,69,70,71,72,73,74,75,76,77,78,79,80,81) have mixed types. Specify dtype option on import or set low_memory=False.\n",
      "  df_ads = pd.read_csv('~/Desktop/ads_nonads.csv')\n"
     ]
    }
   ],
   "source": [
    "import pandas as pd\n",
    "\n",
    "df_ads = pd.read_csv('~/Desktop/ads_nonads.csv')\n",
    "\n",
    "# SELECT cc_text, ad FROM ads_nonads\n",
    "df_ads = df_ads[[\"cc_text\", \"ad\"]]"
   ]
  },
  {
   "cell_type": "code",
   "execution_count": 2,
   "metadata": {},
   "outputs": [
    {
     "name": "stdout",
     "output_type": "stream",
     "text": [
      "                                             cc_text ad\n",
      "0  cold-like symptoms, they will just give you an...  0\n",
      "1  Thirty percent of the world's <span class=\"hig...  0\n",
      "2  the last few years has been really shocking an...  0\n",
      "3  in. when the tree is harvested and turned into...  0\n",
      "4  >> as a teacher, the one that scared me the mo...  0\n",
      "(167145, 2)\n",
      "<class 'pandas.core.frame.DataFrame'>\n",
      "RangeIndex: 167145 entries, 0 to 167144\n",
      "Data columns (total 2 columns):\n",
      " #   Column   Non-Null Count   Dtype \n",
      "---  ------   --------------   ----- \n",
      " 0   cc_text  167143 non-null  object\n",
      " 1   ad       167143 non-null  object\n",
      "dtypes: object(2)\n",
      "memory usage: 2.6+ MB\n",
      "None\n"
     ]
    }
   ],
   "source": [
    "print(df_ads.head())\n",
    "print(df_ads.shape)\n",
    "print(df_ads.info())"
   ]
  },
  {
   "cell_type": "markdown",
   "metadata": {},
   "source": [
    "### Cleaning"
   ]
  },
  {
   "cell_type": "code",
   "execution_count": 3,
   "metadata": {},
   "outputs": [
    {
     "name": "stdout",
     "output_type": "stream",
     "text": [
      "(167141, 2)\n",
      "(150667, 2)\n",
      "(135566, 2)\n"
     ]
    }
   ],
   "source": [
    "# drop rows with any missing values\n",
    "df_ads = df_ads.dropna()\n",
    "print(df_ads.shape)\n",
    "# drop duplicate rows\n",
    "df_ads = df_ads.drop_duplicates()\n",
    "print(df_ads.shape)\n",
    "# drop rows where 'ad' is not 0 or 1\n",
    "df_ads = df_ads[df_ads['ad'].isin([0, 1])]\n",
    "print(df_ads.shape)\n",
    "\n",
    "# Convert 'cc_text' column to string\n",
    "df_ads['cc_text'] = df_ads['cc_text'].astype(str)\n",
    "\n",
    "# Convert 'ad' column to integer\n",
    "df_ads['ad'] = df_ads['ad'].astype(int)"
   ]
  },
  {
   "cell_type": "code",
   "execution_count": 4,
   "metadata": {},
   "outputs": [
    {
     "name": "stdout",
     "output_type": "stream",
     "text": [
      "ad\n",
      "1    77795\n",
      "0    57771\n",
      "Name: count, dtype: int64\n"
     ]
    }
   ],
   "source": [
    "# data check after cleaning\n",
    "print(df_ads[\"ad\"].value_counts())"
   ]
  },
  {
   "cell_type": "code",
   "execution_count": 5,
   "metadata": {},
   "outputs": [
    {
     "name": "stdout",
     "output_type": "stream",
     "text": [
      "                                              cc_text  ad\n",
      "11  I've lost count of how many asthma attacks I'v...   1\n",
      "13  headache, and injection reactions. Ready for a...   1\n",
      "14  ? One SodaStream bottle can save... i don't kn...   1\n",
      "19  ? Hello, Sharks. My name is Tracy Rosensteel, ...   1\n",
      "20  And Joe Biden's weakness makes it even worse. ...   1\n",
      "                                             cc_text  ad\n",
      "0  cold-like symptoms, they will just give you an...   0\n",
      "1  Thirty percent of the world's <span class=\"hig...   0\n",
      "2  the last few years has been really shocking an...   0\n",
      "3  in. when the tree is harvested and turned into...   0\n",
      "4  >> as a teacher, the one that scared me the mo...   0\n"
     ]
    }
   ],
   "source": [
    "# print our the head of the data when ad is 1\n",
    "print(df_ads[df_ads[\"ad\"] == 1].head())\n",
    "\n",
    "# print our the head of the data when ad is 0\n",
    "print(df_ads[df_ads[\"ad\"] == 0].head())"
   ]
  },
  {
   "cell_type": "markdown",
   "metadata": {},
   "source": [
    "#### This dataset is relatively balanced now, so we do text cleaning"
   ]
  },
  {
   "cell_type": "code",
   "execution_count": 6,
   "metadata": {},
   "outputs": [
    {
     "data": {
      "text/plain": [
       "'Thirty percent of the world\\'s <span class=\"highlight\">oceans</span> and and by twenty thirty introducing controls on invasive species and <span class=\"highlight\">reducing</span> <span class=\"highlight\">plastic</span> <span class=\"highlight\">pollution</span> officials insist they can agree ambitious plans to transform our relationship with bio divest E. And ensure that by twenty fifty we obtained a shed vision of living in harmony with nature it all sounds good in theory doesn\\'t it but just how realistic other goals lost here the world was stunned when united nations reported the world leaders had failed to meet a single bio diverse city target agreed unite she in twenty ten and I just can\\'t be acceptable this time around the scientists claim that now humans are causing the six mass extinction event in the history of <span class=\"highlight\">planet</span> and twenty twenty world economic forum business leaders said by divest you dos was the third biggest risk to the well in terms of likelihood and severity behind only <span class=\"highlight\">climate</span> <span class=\"highlight\">change</span> failure and weapons'"
      ]
     },
     "execution_count": 6,
     "metadata": {},
     "output_type": "execute_result"
    }
   ],
   "source": [
    "df_ads[\"cc_text\"][1]"
   ]
  },
  {
   "cell_type": "code",
   "execution_count": 7,
   "metadata": {},
   "outputs": [
    {
     "data": {
      "text/plain": [
       "'>> as a teacher, the one that scared me the most. affected their ability to learn. >> inexpensive and effective <span class=\"highlight\">pesticide</span> considered essential by the industry. widely used on farms in 45 states to grow food, wheat every day. ingested the residue and food, <span class=\"highlight\">water</span> <span class=\"highlight\">contamination</span> and when it is sprayed and fields and trees and then carried in the wind. >> the draft that happens goes into their mouth and bodies. >> sarah says in many areas almost no buffer of protection between fields, schools and homes. >> the risk of <span class=\"highlight\">pesticides</span> are too much.> studies show it can impact brain development in children. lower iqs, disabilities, disorders like adhd. >> very very <span class=\"highlight\">toxic</span> <span class=\"highlight\">chemical</span>. very concerned about it. >> contacted lobbying groups, written in support, as well as'"
      ]
     },
     "execution_count": 7,
     "metadata": {},
     "output_type": "execute_result"
    }
   ],
   "source": [
    "df_ads[\"cc_text\"][4]"
   ]
  },
  {
   "cell_type": "code",
   "execution_count": 8,
   "metadata": {},
   "outputs": [],
   "source": [
    "import re\n",
    "\n",
    "def clean_text(text):\n",
    "    #  Remove everything within HTML tags\n",
    "    text = re.sub(r'<.*?>', '', text)\n",
    "    # Remove special characters\n",
    "    text = re.sub(r'[^A-Za-z0-9\\s]', '', text)\n",
    "    # Convert text to lowercase\n",
    "    text = text.lower()\n",
    "    # Remove extra spaces\n",
    "    text = re.sub(r'\\s+', ' ', text).strip()\n",
    "\n",
    "    return text\n"
   ]
  },
  {
   "cell_type": "code",
   "execution_count": 9,
   "metadata": {},
   "outputs": [
    {
     "name": "stdout",
     "output_type": "stream",
     "text": [
      "thirty percent of the worlds oceans and and by twenty thirty introducing controls on invasive species and reducing plastic pollution officials insist they can agree ambitious plans to transform our relationship with bio divest e and ensure that by twenty fifty we obtained a shed vision of living in harmony with nature it all sounds good in theory doesnt it but just how realistic other goals lost here the world was stunned when united nations reported the world leaders had failed to meet a single bio diverse city target agreed unite she in twenty ten and i just cant be acceptable this time around the scientists claim that now humans are causing the six mass extinction event in the history of planet and twenty twenty world economic forum business leaders said by divest you dos was the third biggest risk to the well in terms of likelihood and severity behind only climate change failure and weapons\n"
     ]
    }
   ],
   "source": [
    "sample_1 = clean_text(df_ads[\"cc_text\"][1])\n",
    "print(sample_1)"
   ]
  },
  {
   "cell_type": "code",
   "execution_count": 10,
   "metadata": {},
   "outputs": [
    {
     "name": "stdout",
     "output_type": "stream",
     "text": [
      "ive lost count of how many asthma attacks ive had but my nunormal with nucala fewer asthma attacks nucala is a oncemonthly addon injection for severe eosinophilic asthma not for sudden breathing problems allergic reactions can occur get help right away for swelling of face mouth tongue or trouble breathing infections that can cause shingles have occurred dont stop steroids unless told by your doctor tell your doctor if you have a parasitic infection may cause headache injectionsite reactions back pain and fatigue ask your doctor about nucala find your nunormal with nucala wanna hear something amazing you can find 100s of epic deals at kohls right now like sonoma tops for 1099 under shoes starting at 1999 and a keurig coffee maker for 9999 you can also get kohls cash kohls republicans in congress are lying joe bidens plan will lower costs and wont raise taxes on anyone making under 400000 a year he will close loopholes that corporations use to avoid paying taxes\n"
     ]
    }
   ],
   "source": [
    "sample_2 = clean_text(df_ads[\"cc_text\"][11])\n",
    "print(sample_2)"
   ]
  },
  {
   "cell_type": "code",
   "execution_count": 11,
   "metadata": {},
   "outputs": [],
   "source": [
    "# Apply clean_text function to cc_text column\n",
    "df_ads[\"cc_text\"] = df_ads[\"cc_text\"].apply(clean_text)"
   ]
  },
  {
   "cell_type": "code",
   "execution_count": 12,
   "metadata": {},
   "outputs": [
    {
     "data": {
      "image/png": "[encoded data removed]",
      "text/plain": [
       "<Figure size 640x480 with 1 Axes>"
      ]
     },
     "metadata": {},
     "output_type": "display_data"
    }
   ],
   "source": [
    "import matplotlib.pyplot as plt\n",
    "\n",
    "# plot the words count per row\n",
    "\n",
    "df_ads[\"Word counts\"] = df_ads[\"cc_text\"].str.split().apply(len)\n",
    "df_ads.boxplot(\"Word counts\", by=\"ad\", grid=False, showfliers=False,\n",
    "           color=\"black\")\n",
    "plt.suptitle(\"\")\n",
    "plt.xlabel(\"\")\n",
    "plt.show()"
   ]
  },
  {
   "cell_type": "code",
   "execution_count": 13,
   "metadata": {},
   "outputs": [
    {
     "name": "stdout",
     "output_type": "stream",
     "text": [
      "\n",
      "DataFrame after filtering based on token length:\n",
      "(129664, 3)\n"
     ]
    },
    {
     "data": {
      "image/png": "[encoded data removed]",
      "text/plain": [
       "<Figure size 640x480 with 1 Axes>"
      ]
     },
     "metadata": {},
     "output_type": "display_data"
    }
   ],
   "source": [
    "# Filter out rows where token length is less than 50\n",
    "df_ads = df_ads[df_ads['Word counts'] >= 50]\n",
    "\n",
    "# Display the DataFrame after filtering\n",
    "print(\"\\nDataFrame after filtering based on token length:\")\n",
    "df_ads.boxplot(\"Word counts\", by=\"ad\", grid=False, showfliers=False,\n",
    "           color=\"black\")\n",
    "print(df_ads.shape)"
   ]
  },
  {
   "cell_type": "code",
   "execution_count": 14,
   "metadata": {},
   "outputs": [],
   "source": [
    "# Drop the 'Word counts' column if you no longer need it\n",
    "df_ads = df_ads.drop(columns=['Word counts'])"
   ]
  },
  {
   "cell_type": "code",
   "execution_count": 15,
   "metadata": {},
   "outputs": [
    {
     "data": {
      "text/plain": [
       "0    coldlike symptoms they will just give you an a...\n",
       "1    thirty percent of the worlds oceans and and by...\n",
       "2    the last few years has been really shocking an...\n",
       "3    in when the tree is harvested and turned into ...\n",
       "4    as a teacher the one that scared me the most a...\n",
       "Name: cc_text, dtype: object"
      ]
     },
     "execution_count": 15,
     "metadata": {},
     "output_type": "execute_result"
    }
   ],
   "source": [
    "df_ads[\"cc_text\"].head()"
   ]
  },
  {
   "cell_type": "markdown",
   "metadata": {},
   "source": [
    "### Train-test split"
   ]
  },
  {
   "cell_type": "code",
   "execution_count": 16,
   "metadata": {},
   "outputs": [
    {
     "name": "stdout",
     "output_type": "stream",
     "text": [
      "Training set size: (77798,) (77798,)\n",
      "Validation set size: (25933,) (25933,)\n",
      "Testing set size: (25933,) (25933,)\n"
     ]
    }
   ],
   "source": [
    "from sklearn.model_selection import train_test_split\n",
    "\n",
    "# Split the data into features and target\n",
    "X = df_ads[\"cc_text\"]\n",
    "y = df_ads[\"ad\"]\n",
    "\n",
    "# Step 1: Split the data into training+validation and testing sets\n",
    "X_train_val, X_test, y_train_val, y_test = train_test_split(X, y, test_size=0.2, random_state=42, stratify=y)\n",
    "\n",
    "# Step 2: Split the training+validation set into separate training and validation sets\n",
    "X_train, X_val, y_train, y_val = train_test_split(X_train_val, y_train_val, test_size=0.25, random_state=42, stratify=y_train_val) # 0.25 x 0.8 = 0.2\n",
    "\n",
    "# Print the shapes of the resulting datasets to verify\n",
    "print(\"Training set size:\", X_train.shape, y_train.shape)\n",
    "print(\"Validation set size:\", X_val.shape, y_val.shape)\n",
    "print(\"Testing set size:\", X_test.shape, y_test.shape)"
   ]
  },
  {
   "cell_type": "markdown",
   "metadata": {},
   "source": [
    "### Now you can use training dataset to build your model and text dataset to test the model performance. "
   ]
  },
  {
   "cell_type": "markdown",
   "metadata": {},
   "source": [
    "## BERT Processing: "
   ]
  },
  {
   "cell_type": "markdown",
   "metadata": {},
   "source": [
    "### Tokenizer"
   ]
  },
  {
   "cell_type": "code",
   "execution_count": 17,
   "metadata": {},
   "outputs": [],
   "source": [
    "# Run this once and restart the kernal \n",
    "#%pip install transformers[sentencepiece] "
   ]
  },
  {
   "cell_type": "code",
   "execution_count": 18,
   "metadata": {},
   "outputs": [],
   "source": [
    "#%pip install torch torchvision torchaudio"
   ]
  },
  {
   "cell_type": "code",
   "execution_count": 19,
   "metadata": {},
   "outputs": [],
   "source": [
    "\n",
    "from transformers import BertTokenizer\n",
    "\n",
    "checkpoint = \"bert-base-cased\"\n",
    "tokenizer = BertTokenizer.from_pretrained(checkpoint)"
   ]
  },
  {
   "cell_type": "code",
   "execution_count": 20,
   "metadata": {},
   "outputs": [],
   "source": [
    "# tokenize the training, testing, evaluation sets\n",
    "X_train_tokens = tokenizer(X_train.tolist(), padding=True, truncation=True)\n",
    "X_test_tokens = tokenizer(X_test.tolist(), padding=True, truncation=True)\n",
    "X_val_tokens = tokenizer(X_val.tolist(), padding=True, truncation=True)"
   ]
  },
  {
   "cell_type": "code",
   "execution_count": 37,
   "metadata": {},
   "outputs": [
    {
     "name": "stdout",
     "output_type": "stream",
     "text": [
      "dict_keys(['input_ids', 'token_type_ids', 'attention_mask'])\n"
     ]
    }
   ],
   "source": [
    "# Print the first few examples of tokenized training data\n",
    "print(X_train_tokens.keys())"
   ]
  },
  {
   "cell_type": "code",
   "execution_count": 22,
   "metadata": {},
   "outputs": [],
   "source": [
    "import torch\n",
    "\n",
    "train_seq = torch.tensor(X_train_tokens[\"input_ids\"])\n",
    "train_mask = torch.tensor(X_train_tokens[\"attention_mask\"])\n",
    "train_y = torch.tensor(y_train.tolist())\n",
    "\n",
    "val_seq = torch.tensor(X_val_tokens[\"input_ids\"])\n",
    "val_mask = torch.tensor(X_val_tokens[\"attention_mask\"])\n",
    "val_y = torch.tensor(y_val.tolist())\n",
    "\n",
    "test_seq = torch.tensor(X_test_tokens[\"input_ids\"])\n",
    "test_mask = torch.tensor(X_test_tokens[\"attention_mask\"])\n",
    "test_y = torch.tensor(y_test.tolist())"
   ]
  },
  {
   "cell_type": "code",
   "execution_count": 43,
   "metadata": {},
   "outputs": [],
   "source": [
    "from torch.utils.data import Dataset\n",
    "\n",
    "class CustomDataset(Dataset):\n",
    "    def __init__(self, input_ids, attention_mask, labels):\n",
    "        self.input_ids = input_ids\n",
    "        self.attention_mask = attention_mask\n",
    "        self.labels = labels\n",
    "\n",
    "    def __len__(self):\n",
    "        return len(self.labels)\n",
    "\n",
    "    def __getitem__(self, idx):\n",
    "        return {\n",
    "            'input_ids': self.input_ids[idx],\n",
    "            'attention_mask': self.attention_mask[idx],\n",
    "            'labels': self.labels[idx]\n",
    "        }\n",
    "\n",
    "# Create instances of the CustomDataset\n",
    "train_dataset = CustomDataset(train_seq, train_mask, train_y)\n",
    "val_dataset = CustomDataset(val_seq, val_mask, val_y)\n",
    "test_dataset = CustomDataset(test_seq, test_mask, test_y)"
   ]
  },
  {
   "cell_type": "code",
   "execution_count": 44,
   "metadata": {},
   "outputs": [],
   "source": [
    "from transformers import AutoModelForSequenceClassification\n",
    "\n",
    "device = torch.device(\"cuda\" if torch.cuda.is_available() else \"cpu\")\n",
    "num_labels = 2  # 2 labels: 0 for non-ads, 1 for ads\n",
    "\n",
    "model = (AutoModelForSequenceClassification\n",
    "         .from_pretrained(checkpoint, num_labels=num_labels)\n",
    "         .to(device))\n"
   ]
  },
  {
   "cell_type": "code",
   "execution_count": 45,
   "metadata": {},
   "outputs": [],
   "source": [
    "from transformers import Trainer, TrainingArguments"
   ]
  },
  {
   "cell_type": "code",
   "execution_count": 46,
   "metadata": {},
   "outputs": [
    {
     "data": {
      "text/plain": [
       "4862"
      ]
     },
     "execution_count": 46,
     "metadata": {},
     "output_type": "execute_result"
    }
   ],
   "source": [
    "batch_size = 16\n",
    "logging_steps = len(X_train) // batch_size\n",
    "logging_steps"
   ]
  },
  {
   "cell_type": "code",
   "execution_count": 47,
   "metadata": {},
   "outputs": [],
   "source": [
    "# Define the training arguments\n",
    "model_name = f\"{checkpoint}-finetuned-ad-classifier\"\n",
    "training_args = TrainingArguments(output_dir=model_name,\n",
    "                                  num_train_epochs=2,\n",
    "                                  learning_rate=2e-5,\n",
    "                                  per_device_train_batch_size=batch_size,\n",
    "                                  per_device_eval_batch_size=batch_size,\n",
    "                                  weight_decay=0.01,\n",
    "                                  eval_strategy=\"epoch\",\n",
    "                                  disable_tqdm=False,\n",
    "                                  logging_steps=logging_steps,\n",
    "                                  log_level=\"error\",\n",
    "                                  optim='adamw_torch'\n",
    "                                  )"
   ]
  },
  {
   "cell_type": "markdown",
   "metadata": {},
   "source": [
    "## Small Sample Size Test Run: "
   ]
  },
  {
   "cell_type": "code",
   "execution_count": 50,
   "metadata": {},
   "outputs": [],
   "source": [
    "# Let's say you want to use only 5% of the data for a quick test\n",
    "\n",
    "sample_size = int(0.05 * len(train_dataset))  # 5% of the full training dataset size\n",
    "\n",
    "# Create smaller datasets by sampling\n",
    "small_train_dataset = torch.utils.data.Subset(train_dataset, indices=torch.randperm(len(train_dataset))[:sample_size])\n",
    "small_val_dataset = torch.utils.data.Subset(val_dataset, indices=torch.randperm(len(val_dataset))[:sample_size])\n",
    "small_test_dataset = torch.utils.data.Subset(test_dataset, indices=torch.randperm(len(test_dataset))[:sample_size])\n"
   ]
  },
  {
   "cell_type": "code",
   "execution_count": null,
   "metadata": {},
   "outputs": [],
   "source": [
    "\n",
    "from sklearn.metrics import accuracy_score\n",
    "\n",
    "def get_accuracy(preds):\n",
    "  accuracy = accuracy_score(preds.label_ids, preds.predictions.argmax(axis=-1))\n",
    "  return {'accuracy': accuracy}"
   ]
  },
  {
   "cell_type": "code",
   "execution_count": 51,
   "metadata": {},
   "outputs": [],
   "source": [
    "torch.cuda.empty_cache()\n",
    "\n",
    "# Initialize the Trainer\n",
    "trainer = Trainer(\n",
    "    model=model,\n",
    "    compute_metrics=get_accuracy,\n",
    "    args=training_args,\n",
    "    train_dataset=small_train_dataset,\n",
    "    eval_dataset=small_val_dataset,\n",
    "    tokenizer=tokenizer\n",
    ")"
   ]
  },
  {
   "cell_type": "code",
   "execution_count": 52,
   "metadata": {},
   "outputs": [
    {
     "data": {
      "application/vnd.jupyter.widget-view+json": {
       "model_id": "6a896b8a6ca144cd8c87be4c3c8f1eae",
       "version_major": 2,
       "version_minor": 0
      },
      "text/plain": [
       "  0%|          | 0/488 [00:00<?, ?it/s]"
      ]
     },
     "metadata": {},
     "output_type": "display_data"
    },
    {
     "data": {
      "application/vnd.jupyter.widget-view+json": {
       "model_id": "e6bd7ab616634ca29eb63e0c2f590933",
       "version_major": 2,
       "version_minor": 0
      },
      "text/plain": [
       "  0%|          | 0/244 [00:00<?, ?it/s]"
      ]
     },
     "metadata": {},
     "output_type": "display_data"
    },
    {
     "name": "stdout",
     "output_type": "stream",
     "text": [
      "{'eval_loss': 0.2666780948638916, 'eval_runtime': 3017.8353, 'eval_samples_per_second': 1.289, 'eval_steps_per_second': 0.081, 'epoch': 1.0}\n"
     ]
    },
    {
     "data": {
      "application/vnd.jupyter.widget-view+json": {
       "model_id": "573f2715f83c4a2587eda8ac6093f763",
       "version_major": 2,
       "version_minor": 0
      },
      "text/plain": [
       "  0%|          | 0/244 [00:00<?, ?it/s]"
      ]
     },
     "metadata": {},
     "output_type": "display_data"
    }
   ],
   "source": [
    "trainer.train()"
   ]
  },
  {
   "cell_type": "code",
   "execution_count": null,
   "metadata": {},
   "outputs": [],
   "source": [
    "trainer.evaluate()"
   ]
  },
  {
   "cell_type": "code",
   "execution_count": null,
   "metadata": {},
   "outputs": [],
   "source": [
    "trainer.evaluate(small_test_dataset)"
   ]
  },
  {
   "cell_type": "code",
   "execution_count": null,
   "metadata": {},
   "outputs": [],
   "source": [
    "trainer.save_model()"
   ]
  },
  {
   "cell_type": "code",
   "execution_count": null,
   "metadata": {},
   "outputs": [],
   "source": [
    "\n",
    "model_name"
   ]
  },
  {
   "cell_type": "markdown",
   "metadata": {},
   "source": [
    "## Sample from another Dataset "
   ]
  },
  {
   "cell_type": "code",
   "execution_count": null,
   "metadata": {},
   "outputs": [],
   "source": [
    "#lable 1\n",
    "from transformers import pipeline\n",
    "classifier = pipeline('text-classification', model=model_name)\n",
    "classifier('So he could charge rich tourists $12,500 for prime elk hunting. No wonder Sheehy said he end protections for public lands. So if you re for hunting and for access to public lands... ?you cant be for Shady. Montana Outdoor Values Action Fund is responsible for the content of this ad.')\n",
    "     "
   ]
  },
  {
   "cell_type": "code",
   "execution_count": null,
   "metadata": {},
   "outputs": [],
   "source": [
    "#lable 0 \n",
    "classifer('In the meantime I think we have to provide the studies necessary no thanks he s palestine residents say the study has a good first step but they also need medical care to go with it a resident still do not have also caller just a companion bill in the senate is being cosponsored by republican J. D. Vance and democrat sherrod brown to also help push the I. R. S. To announce wednesday the twenty one million dollars norfolk southern says it has paid directly to residents will not be taxed the norfolk southern do that there was a community the I. R. S. Did damage on top of that and we fix that those who have already reported the payments on their twenty twenty three taxes will need to amend the returns to get a refund last month norfolk southern also agreed to pay three hundred ten million dollars for cleanup and other fees bringing its total expected costs related to the derailment to one point seven billion dollars in washington cary leahy spectrum news you number released this week')"
   ]
  }
 ],
 "metadata": {
  "kernelspec": {
   "display_name": "Python 3",
   "language": "python",
   "name": "python3"
  },
  "language_info": {
   "codemirror_mode": {
    "name": "ipython",
    "version": 3
   },
   "file_extension": ".py",
   "mimetype": "text/x-python",
   "name": "python",
   "nbconvert_exporter": "python",
   "pygments_lexer": "ipython3",
   "version": "3.11.7"
  }
 },
 "nbformat": 4,
 "nbformat_minor": 2
}
