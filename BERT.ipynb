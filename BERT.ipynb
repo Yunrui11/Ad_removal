{
 "cells": [
  {
   "cell_type": "markdown",
   "metadata": {},
   "source": [
    "## Data Cleaning: "
   ]
  },
  {
   "cell_type": "markdown",
   "metadata": {},
   "source": [
    "### Import Data: "
   ]
  },
  {
   "cell_type": "code",
   "execution_count": 1,
   "metadata": {},
   "outputs": [
    {
     "name": "stderr",
     "output_type": "stream",
     "text": [
      "C:\\Users\\rbao\\AppData\\Local\\Temp\\ipykernel_24664\\302034902.py:3: DtypeWarning: Columns (2,3,4,5,6,7,8,9,10,11,12,13,14,15,16,17,18,19,20,21,22,23,24,25,26,27,28,29,30,31,32,33,34,35,36,37,38,39,40,41,42,43,44,45,46,47,48,49,50,51,52,53,54,55,56,57,58,59,60,61,62,63,64,65,66,67,68,69,70,71,72,73,74,75,76,77,78,79,80,81) have mixed types. Specify dtype option on import or set low_memory=False.\n",
      "  df_ads = pd.read_csv('~/Desktop/ads_nonads.csv')\n"
     ]
    }
   ],
   "source": [
    "import pandas as pd\n",
    "\n",
    "df_ads = pd.read_csv('~/Desktop/ads_nonads.csv')\n",
    "\n",
    "# SELECT cc_text, ad FROM ads_nonads\n",
    "df_ads = df_ads[[\"cc_text\", \"ad\"]]"
   ]
  },
  {
   "cell_type": "code",
   "execution_count": 2,
   "metadata": {},
   "outputs": [
    {
     "name": "stdout",
     "output_type": "stream",
     "text": [
      "                                             cc_text ad\n",
      "0  cold-like symptoms, they will just give you an...  0\n",
      "1  Thirty percent of the world's <span class=\"hig...  0\n",
      "2  the last few years has been really shocking an...  0\n",
      "3  in. when the tree is harvested and turned into...  0\n",
      "4  >> as a teacher, the one that scared me the mo...  0\n",
      "(167145, 2)\n",
      "<class 'pandas.core.frame.DataFrame'>\n",
      "RangeIndex: 167145 entries, 0 to 167144\n",
      "Data columns (total 2 columns):\n",
      " #   Column   Non-Null Count   Dtype \n",
      "---  ------   --------------   ----- \n",
      " 0   cc_text  167143 non-null  object\n",
      " 1   ad       167143 non-null  object\n",
      "dtypes: object(2)\n",
      "memory usage: 2.6+ MB\n",
      "None\n"
     ]
    }
   ],
   "source": [
    "print(df_ads.head())\n",
    "print(df_ads.shape)\n",
    "print(df_ads.info())"
   ]
  },
  {
   "cell_type": "markdown",
   "metadata": {},
   "source": [
    "### Cleaning"
   ]
  },
  {
   "cell_type": "code",
   "execution_count": 3,
   "metadata": {},
   "outputs": [
    {
     "name": "stdout",
     "output_type": "stream",
     "text": [
      "(167141, 2)\n",
      "(150667, 2)\n",
      "(135566, 2)\n"
     ]
    }
   ],
   "source": [
    "# drop rows with any missing values\n",
    "df_ads = df_ads.dropna()\n",
    "print(df_ads.shape)\n",
    "# drop duplicate rows\n",
    "df_ads = df_ads.drop_duplicates()\n",
    "print(df_ads.shape)\n",
    "# drop rows where 'ad' is not 0 or 1\n",
    "df_ads = df_ads[df_ads['ad'].isin([0, 1])]\n",
    "print(df_ads.shape)\n",
    "\n",
    "# Convert 'cc_text' column to string\n",
    "df_ads['cc_text'] = df_ads['cc_text'].astype(str)\n",
    "\n",
    "# Convert 'ad' column to integer\n",
    "df_ads['ad'] = df_ads['ad'].astype(int)"
   ]
  },
  {
   "cell_type": "code",
   "execution_count": 4,
   "metadata": {},
   "outputs": [
    {
     "name": "stdout",
     "output_type": "stream",
     "text": [
      "ad\n",
      "1    77795\n",
      "0    57771\n",
      "Name: count, dtype: int64\n"
     ]
    }
   ],
   "source": [
    "# data check after cleaning\n",
    "print(df_ads[\"ad\"].value_counts())"
   ]
  },
  {
   "cell_type": "code",
   "execution_count": 5,
   "metadata": {},
   "outputs": [
    {
     "name": "stdout",
     "output_type": "stream",
     "text": [
      "                                              cc_text  ad\n",
      "11  I've lost count of how many asthma attacks I'v...   1\n",
      "13  headache, and injection reactions. Ready for a...   1\n",
      "14  ? One SodaStream bottle can save... i don't kn...   1\n",
      "19  ? Hello, Sharks. My name is Tracy Rosensteel, ...   1\n",
      "20  And Joe Biden's weakness makes it even worse. ...   1\n",
      "                                             cc_text  ad\n",
      "0  cold-like symptoms, they will just give you an...   0\n",
      "1  Thirty percent of the world's <span class=\"hig...   0\n",
      "2  the last few years has been really shocking an...   0\n",
      "3  in. when the tree is harvested and turned into...   0\n",
      "4  >> as a teacher, the one that scared me the mo...   0\n"
     ]
    }
   ],
   "source": [
    "# print our the head of the data when ad is 1\n",
    "print(df_ads[df_ads[\"ad\"] == 1].head())\n",
    "\n",
    "# print our the head of the data when ad is 0\n",
    "print(df_ads[df_ads[\"ad\"] == 0].head())"
   ]
  },
  {
   "cell_type": "markdown",
   "metadata": {},
   "source": [
    "#### This dataset is relatively balanced now, so we do text cleaning"
   ]
  },
  {
   "cell_type": "code",
   "execution_count": 6,
   "metadata": {},
   "outputs": [
    {
     "data": {
      "text/plain": [
       "'Thirty percent of the world\\'s <span class=\"highlight\">oceans</span> and and by twenty thirty introducing controls on invasive species and <span class=\"highlight\">reducing</span> <span class=\"highlight\">plastic</span> <span class=\"highlight\">pollution</span> officials insist they can agree ambitious plans to transform our relationship with bio divest E. And ensure that by twenty fifty we obtained a shed vision of living in harmony with nature it all sounds good in theory doesn\\'t it but just how realistic other goals lost here the world was stunned when united nations reported the world leaders had failed to meet a single bio diverse city target agreed unite she in twenty ten and I just can\\'t be acceptable this time around the scientists claim that now humans are causing the six mass extinction event in the history of <span class=\"highlight\">planet</span> and twenty twenty world economic forum business leaders said by divest you dos was the third biggest risk to the well in terms of likelihood and severity behind only <span class=\"highlight\">climate</span> <span class=\"highlight\">change</span> failure and weapons'"
      ]
     },
     "execution_count": 6,
     "metadata": {},
     "output_type": "execute_result"
    }
   ],
   "source": [
    "df_ads[\"cc_text\"][1]"
   ]
  },
  {
   "cell_type": "code",
   "execution_count": 7,
   "metadata": {},
   "outputs": [
    {
     "data": {
      "text/plain": [
       "'>> as a teacher, the one that scared me the most. affected their ability to learn. >> inexpensive and effective <span class=\"highlight\">pesticide</span> considered essential by the industry. widely used on farms in 45 states to grow food, wheat every day. ingested the residue and food, <span class=\"highlight\">water</span> <span class=\"highlight\">contamination</span> and when it is sprayed and fields and trees and then carried in the wind. >> the draft that happens goes into their mouth and bodies. >> sarah says in many areas almost no buffer of protection between fields, schools and homes. >> the risk of <span class=\"highlight\">pesticides</span> are too much.> studies show it can impact brain development in children. lower iqs, disabilities, disorders like adhd. >> very very <span class=\"highlight\">toxic</span> <span class=\"highlight\">chemical</span>. very concerned about it. >> contacted lobbying groups, written in support, as well as'"
      ]
     },
     "execution_count": 7,
     "metadata": {},
     "output_type": "execute_result"
    }
   ],
   "source": [
    "df_ads[\"cc_text\"][4]"
   ]
  },
  {
   "cell_type": "code",
   "execution_count": 8,
   "metadata": {},
   "outputs": [],
   "source": [
    "import re\n",
    "\n",
    "def clean_text(text):\n",
    "    #  Remove everything within HTML tags\n",
    "    text = re.sub(r'<.*?>', '', text)\n",
    "    # Remove special characters\n",
    "    text = re.sub(r'[^A-Za-z0-9\\s]', '', text)\n",
    "    # Convert text to lowercase\n",
    "    text = text.lower()\n",
    "    # Remove extra spaces\n",
    "    text = re.sub(r'\\s+', ' ', text).strip()\n",
    "    \n",
    "    return text\n"
   ]
  },
  {
   "cell_type": "code",
   "execution_count": 9,
   "metadata": {},
   "outputs": [
    {
     "name": "stdout",
     "output_type": "stream",
     "text": [
      "thirty percent of the worlds oceans and and by twenty thirty introducing controls on invasive species and reducing plastic pollution officials insist they can agree ambitious plans to transform our relationship with bio divest e and ensure that by twenty fifty we obtained a shed vision of living in harmony with nature it all sounds good in theory doesnt it but just how realistic other goals lost here the world was stunned when united nations reported the world leaders had failed to meet a single bio diverse city target agreed unite she in twenty ten and i just cant be acceptable this time around the scientists claim that now humans are causing the six mass extinction event in the history of planet and twenty twenty world economic forum business leaders said by divest you dos was the third biggest risk to the well in terms of likelihood and severity behind only climate change failure and weapons\n"
     ]
    }
   ],
   "source": [
    "sample_1 = clean_text(df_ads[\"cc_text\"][1])\n",
    "print(sample_1)"
   ]
  },
  {
   "cell_type": "code",
   "execution_count": 10,
   "metadata": {},
   "outputs": [
    {
     "name": "stdout",
     "output_type": "stream",
     "text": [
      "ive lost count of how many asthma attacks ive had but my nunormal with nucala fewer asthma attacks nucala is a oncemonthly addon injection for severe eosinophilic asthma not for sudden breathing problems allergic reactions can occur get help right away for swelling of face mouth tongue or trouble breathing infections that can cause shingles have occurred dont stop steroids unless told by your doctor tell your doctor if you have a parasitic infection may cause headache injectionsite reactions back pain and fatigue ask your doctor about nucala find your nunormal with nucala wanna hear something amazing you can find 100s of epic deals at kohls right now like sonoma tops for 1099 under shoes starting at 1999 and a keurig coffee maker for 9999 you can also get kohls cash kohls republicans in congress are lying joe bidens plan will lower costs and wont raise taxes on anyone making under 400000 a year he will close loopholes that corporations use to avoid paying taxes\n"
     ]
    }
   ],
   "source": [
    "sample_2 = clean_text(df_ads[\"cc_text\"][11])\n",
    "print(sample_2)"
   ]
  },
  {
   "cell_type": "code",
   "execution_count": 11,
   "metadata": {},
   "outputs": [],
   "source": [
    "# Apply clean_text function to cc_text column\n",
    "df_ads[\"cc_text\"] = df_ads[\"cc_text\"].apply(clean_text)"
   ]
  },
  {
   "cell_type": "code",
   "execution_count": 12,
   "metadata": {},
   "outputs": [
    {
     "data": {
      "text/plain": [
       "0    coldlike symptoms they will just give you an a...\n",
       "1    thirty percent of the worlds oceans and and by...\n",
       "2    the last few years has been really shocking an...\n",
       "3    in when the tree is harvested and turned into ...\n",
       "4    as a teacher the one that scared me the most a...\n",
       "Name: cc_text, dtype: object"
      ]
     },
     "execution_count": 12,
     "metadata": {},
     "output_type": "execute_result"
    }
   ],
   "source": [
    "df_ads[\"cc_text\"].head()"
   ]
  },
  {
   "cell_type": "markdown",
   "metadata": {},
   "source": [
    "### Train-test split"
   ]
  },
  {
   "cell_type": "code",
   "execution_count": 13,
   "metadata": {},
   "outputs": [
    {
     "name": "stdout",
     "output_type": "stream",
     "text": [
      "Training set size: (108452,) (108452,)\n",
      "Testing set size: (27114,) (27114,)\n"
     ]
    }
   ],
   "source": [
    "from sklearn.model_selection import train_test_split\n",
    "\n",
    "# Split the data into features and target\n",
    "X = df_ads[\"cc_text\"]\n",
    "y = df_ads[\"ad\"]\n",
    "\n",
    "# Split the data into training and testing sets\n",
    "X_train, X_test, y_train, y_test = train_test_split(X, y, test_size=0.2, random_state=42)\n",
    "\n",
    "# Print the shapes of the resulting datasets to verify\n",
    "print(\"Training set size:\", X_train.shape, y_train.shape)\n",
    "print(\"Testing set size:\", X_test.shape, y_test.shape)"
   ]
  },
  {
   "cell_type": "markdown",
   "metadata": {},
   "source": [
    "### Now you can use training dataset to build your model and text dataset to test the model performance. If you like an additional validation dataset, you can further split the training dataset. "
   ]
  },
  {
   "cell_type": "code",
   "execution_count": 14,
   "metadata": {},
   "outputs": [
    {
     "data": {
      "image/png": "[encoded data removed]",
      "text/plain": [
       "<Figure size 640x480 with 1 Axes>"
      ]
     },
     "metadata": {},
     "output_type": "display_data"
    }
   ],
   "source": [
    "import matplotlib.pyplot as plt\n",
    "\n",
    "# plot the words count per row\n",
    "\n",
    "df_ads[\"Words per review\"] = df_ads[\"cc_text\"].str.split().apply(len)\n",
    "df_ads.boxplot(\"Words per review\", by=\"ad\", grid=False, showfliers=False,\n",
    "           color=\"black\")\n",
    "plt.suptitle(\"\")\n",
    "plt.xlabel(\"\")\n",
    "plt.show()"
   ]
  },
  {
   "cell_type": "markdown",
   "metadata": {},
   "source": [
    "## BERT Processing: "
   ]
  },
  {
   "cell_type": "markdown",
   "metadata": {},
   "source": [
    "### Tokenizer"
   ]
  },
  {
   "cell_type": "code",
   "execution_count": 15,
   "metadata": {},
   "outputs": [],
   "source": [
    "# Run this once and restart the kernal \n",
    "#%pip install transformers[sentencepiece] "
   ]
  },
  {
   "cell_type": "code",
   "execution_count": 16,
   "metadata": {},
   "outputs": [],
   "source": [
    "#%pip install torch torchvision torchaudio"
   ]
  },
  {
   "cell_type": "code",
   "execution_count": 17,
   "metadata": {},
   "outputs": [],
   "source": [
    "\n",
    "from transformers import AutoTokenizer\n",
    "\n",
    "checkpoint = \"bert-base-cased\"\n",
    "tokenizer = AutoTokenizer.from_pretrained(checkpoint)"
   ]
  },
  {
   "cell_type": "code",
   "execution_count": 18,
   "metadata": {},
   "outputs": [],
   "source": [
    "# tokenize the training and testing sets\n",
    "X_train_tokens = tokenizer(X_train.tolist(), padding=True, truncation=True)\n",
    "X_test_tokens = tokenizer(X_test.tolist(), padding=True, truncation=True)"
   ]
  },
  {
   "cell_type": "code",
   "execution_count": 19,
   "metadata": {},
   "outputs": [
    {
     "name": "stdout",
     "output_type": "stream",
     "text": [
      "Example 1:\n",
      "Original: all alone in rightville buzz were such great friends we should have a nickname like the breakfast buddies leslie how about the less talking more eating buddies buzz thats great even in complete silence honey nut cheerios can help lower cholesterol phyllis what about the very good looking people buzz thats very accurate every bite better with pepsi feeling sluggish or weighed down could be a sign that your digestive system isnt at its best but a little metamucil every day can help metamucils psyllium fiber gels to trap and remove the waste that weighs you down and also helps lower cholesterol and slows sugar absorption to promote healthy blood sugar levels so you can feel lighter and more energetic\n",
      "Tokenized: [101, 1155, 2041, 1107, 1268, 2138, 19859, 1127, 1216, 1632, 2053, 1195, 1431, 1138, 170, 8002, 1176, 1103, 6462, 171, 22940, 1905, 8241, 7174, 1293, 1164, 1103, 1750, 2520, 1167, 5497, 171, 22940, 1905, 19859, 1115, 1116, 1632, 1256, 1107, 2335, 3747, 8531, 22664, 18456, 10714, 1169, 1494, 2211, 22572, 9016, 4648, 4063, 185, 18873, 6137, 1184, 1164, 1103, 1304, 1363, 1702, 1234, 19859, 1115, 1116, 1304, 8026, 1451, 6513, 1618, 1114, 185, 8043, 5053, 2296, 188, 16693, 25019, 1324, 1137, 13025, 1205, 1180, 1129, 170, 2951, 1115, 1240, 11902, 23536, 1449, 2762, 1204, 1120, 1157, 1436, 1133, 170, 1376, 27154, 13601, 6617, 1233, 1451, 1285, 1169, 1494, 27154, 13601, 6617, 3447, 15604, 7777, 14635, 12753, 27426, 1116, 1106, 8598, 1105, 5782, 1103, 5671, 1115, 23363, 1128, 1205, 1105, 1145, 6618, 2211, 22572, 9016, 4648, 4063, 1105, 3345, 1116, 6656, 18099, 1106, 4609, 8071, 1892, 6656, 3001, 1177, 1128, 1169, 1631, 9310, 1105, 1167, 20069, 102, 0, 0, 0, 0, 0, 0, 0, 0, 0, 0, 0, 0, 0, 0, 0, 0, 0, 0, 0, 0, 0, 0, 0, 0, 0, 0, 0, 0, 0, 0, 0, 0, 0, 0, 0, 0, 0, 0, 0, 0, 0, 0, 0, 0, 0, 0, 0, 0, 0, 0, 0, 0, 0, 0, 0, 0, 0, 0, 0, 0, 0, 0, 0, 0, 0, 0, 0, 0, 0, 0, 0, 0, 0, 0, 0, 0, 0, 0, 0, 0, 0, 0, 0, 0, 0, 0, 0, 0, 0, 0, 0, 0, 0, 0, 0, 0, 0, 0, 0, 0, 0, 0, 0, 0, 0, 0, 0, 0, 0, 0, 0, 0, 0, 0, 0, 0, 0, 0, 0, 0, 0, 0, 0, 0, 0, 0, 0, 0, 0, 0, 0, 0, 0, 0, 0, 0, 0, 0, 0, 0, 0, 0, 0, 0, 0, 0, 0, 0, 0, 0, 0, 0, 0, 0, 0, 0, 0, 0, 0, 0, 0, 0, 0, 0, 0, 0, 0, 0, 0, 0, 0, 0, 0, 0, 0, 0, 0, 0, 0, 0, 0, 0, 0, 0, 0, 0, 0, 0, 0, 0, 0, 0, 0, 0, 0, 0, 0, 0, 0, 0, 0, 0, 0, 0, 0, 0, 0, 0, 0, 0, 0, 0, 0, 0, 0, 0, 0, 0, 0, 0, 0, 0, 0, 0, 0, 0, 0, 0, 0, 0, 0, 0, 0, 0, 0, 0, 0, 0, 0, 0, 0, 0, 0, 0, 0, 0, 0, 0, 0, 0, 0, 0, 0, 0, 0, 0, 0, 0, 0, 0, 0, 0, 0, 0, 0, 0, 0, 0, 0, 0, 0, 0, 0, 0, 0, 0, 0, 0, 0, 0, 0, 0, 0, 0, 0, 0, 0, 0, 0, 0, 0, 0, 0, 0, 0, 0, 0, 0, 0, 0, 0, 0, 0, 0, 0, 0, 0, 0, 0, 0, 0, 0, 0, 0, 0, 0, 0, 0, 0, 0, 0, 0, 0, 0, 0, 0, 0, 0, 0, 0, 0, 0, 0, 0, 0, 0, 0, 0, 0, 0, 0, 0, 0, 0, 0, 0, 0, 0, 0, 0, 0, 0, 0, 0, 0, 0]\n",
      "\n",
      "Example 2:\n",
      "Original: were not a startup but our innovation labs use new technologies to help keep your information secure were not architects but we help build stronger communities were not just any bank we are citi youll find them in cities towns and suburbs all across america millions of americans who have medicare and medicaid but may be missing benefits they could really use extra benefits they may be eligible to receive at no extra cost and if you have medicare and medicaid you may be able to get extra benefits too through a humana medicare advantage dualeligible special needs plan call now to see if theres a plan in your area and to see if you qualify all of these plans include doctor hospital and prescription drug coverage plus something really special the humana healthy options allowance your allowance to help pay for essentials like eligible groceries utilities and rent even\n",
      "Tokenized: [101, 1127, 1136, 170, 1838, 4455, 1133, 1412, 11279, 21973, 1329, 1207, 7951, 1106, 1494, 1712, 1240, 1869, 5343, 1127, 1136, 10939, 1133, 1195, 1494, 3076, 5992, 3611, 1127, 1136, 1198, 1251, 3085, 1195, 1132, 172, 17030, 1128, 2339, 1525, 1172, 1107, 3038, 4281, 1105, 10386, 1155, 1506, 1821, 26237, 1161, 9215, 1104, 1821, 26237, 5443, 1150, 1138, 1143, 13328, 8836, 1105, 1143, 13328, 19954, 1133, 1336, 1129, 3764, 6245, 1152, 1180, 1541, 1329, 3908, 6245, 1152, 1336, 1129, 7408, 1106, 3531, 1120, 1185, 3908, 2616, 1105, 1191, 1128, 1138, 1143, 13328, 8836, 1105, 1143, 13328, 19954, 1128, 1336, 1129, 1682, 1106, 1243, 3908, 6245, 1315, 1194, 170, 1769, 1161, 1143, 13328, 8836, 4316, 7058, 21091, 12192, 1957, 2993, 2197, 1840, 1208, 1106, 1267, 1191, 1175, 1116, 170, 2197, 1107, 1240, 1298, 1105, 1106, 1267, 1191, 1128, 7044, 1155, 1104, 1292, 2714, 1511, 3995, 2704, 1105, 24259, 3850, 5811, 4882, 1380, 1541, 1957, 1103, 1769, 1161, 8071, 6665, 25916, 1240, 25916, 1106, 1494, 2653, 1111, 6818, 1116, 1176, 7408, 176, 2180, 14840, 1905, 22606, 1105, 9795, 1256, 102, 0, 0, 0, 0, 0, 0, 0, 0, 0, 0, 0, 0, 0, 0, 0, 0, 0, 0, 0, 0, 0, 0, 0, 0, 0, 0, 0, 0, 0, 0, 0, 0, 0, 0, 0, 0, 0, 0, 0, 0, 0, 0, 0, 0, 0, 0, 0, 0, 0, 0, 0, 0, 0, 0, 0, 0, 0, 0, 0, 0, 0, 0, 0, 0, 0, 0, 0, 0, 0, 0, 0, 0, 0, 0, 0, 0, 0, 0, 0, 0, 0, 0, 0, 0, 0, 0, 0, 0, 0, 0, 0, 0, 0, 0, 0, 0, 0, 0, 0, 0, 0, 0, 0, 0, 0, 0, 0, 0, 0, 0, 0, 0, 0, 0, 0, 0, 0, 0, 0, 0, 0, 0, 0, 0, 0, 0, 0, 0, 0, 0, 0, 0, 0, 0, 0, 0, 0, 0, 0, 0, 0, 0, 0, 0, 0, 0, 0, 0, 0, 0, 0, 0, 0, 0, 0, 0, 0, 0, 0, 0, 0, 0, 0, 0, 0, 0, 0, 0, 0, 0, 0, 0, 0, 0, 0, 0, 0, 0, 0, 0, 0, 0, 0, 0, 0, 0, 0, 0, 0, 0, 0, 0, 0, 0, 0, 0, 0, 0, 0, 0, 0, 0, 0, 0, 0, 0, 0, 0, 0, 0, 0, 0, 0, 0, 0, 0, 0, 0, 0, 0, 0, 0, 0, 0, 0, 0, 0, 0, 0, 0, 0, 0, 0, 0, 0, 0, 0, 0, 0, 0, 0, 0, 0, 0, 0, 0, 0, 0, 0, 0, 0, 0, 0, 0, 0, 0, 0, 0, 0, 0, 0, 0, 0, 0, 0, 0, 0, 0, 0, 0, 0, 0, 0, 0, 0, 0, 0, 0, 0, 0, 0, 0, 0, 0, 0, 0, 0, 0, 0, 0, 0, 0, 0, 0, 0, 0, 0, 0, 0, 0, 0, 0, 0, 0, 0, 0, 0, 0, 0, 0, 0, 0, 0, 0, 0, 0, 0, 0, 0, 0, 0, 0, 0, 0, 0, 0, 0, 0, 0, 0, 0, 0, 0, 0]\n",
      "\n",
      "Example 3:\n",
      "Original: because the guys totally inept this is the defendant lamont burrell he says hes done work with alicia keys rihanna even donald trump so he comes highly recommended the footage the plaintiff provided had a lot of technical problems with picture quality and audio and he spent over a year trying to fix it for him unfortunately they had creative differences and hes sorry but he couldnt wave a magic wand and make all the problems go away so here they are bottom line he worked hard on this film and deserves to keep his pay hes accused of not being able to make movie magic douglas all parties please raise your right hands judge we did adr we actually did it he lost the footage after that thats what im saying judge milian he lost the new footage the new footage judge milian how did he lose it according to you\n",
      "Tokenized: [101, 1272, 1103, 3713, 5733, 1107, 15384, 1142, 1110, 1103, 14259, 2495, 7578, 171, 2149, 13458, 1119, 1867, 1119, 1116, 1694, 1250, 1114, 2393, 27989, 1161, 6631, 187, 21656, 11762, 1256, 1274, 18728, 189, 27321, 1177, 1119, 2502, 3023, 6315, 1103, 8145, 1103, 23940, 2136, 1125, 170, 1974, 1104, 4301, 2645, 1114, 3439, 3068, 1105, 6056, 1105, 1119, 2097, 1166, 170, 1214, 1774, 1106, 8239, 1122, 1111, 1140, 16679, 1152, 1125, 6228, 5408, 1105, 1119, 1116, 2959, 1133, 1119, 1577, 1204, 4003, 170, 3974, 20049, 3276, 1105, 1294, 1155, 1103, 2645, 1301, 1283, 1177, 1303, 1152, 1132, 3248, 1413, 1119, 1589, 1662, 1113, 1142, 1273, 1105, 18641, 1106, 1712, 1117, 2653, 1119, 1116, 4806, 1104, 1136, 1217, 1682, 1106, 1294, 2523, 3974, 1202, 9610, 7580, 1155, 3512, 4268, 4693, 1240, 1268, 1493, 3942, 1195, 1225, 8050, 1197, 1195, 2140, 1225, 1122, 1119, 1575, 1103, 8145, 1170, 1115, 1115, 1116, 1184, 13280, 2157, 3942, 1940, 15647, 1119, 1575, 1103, 1207, 8145, 1103, 1207, 8145, 3942, 1940, 15647, 1293, 1225, 1119, 3857, 1122, 2452, 1106, 1128, 102, 0, 0, 0, 0, 0, 0, 0, 0, 0, 0, 0, 0, 0, 0, 0, 0, 0, 0, 0, 0, 0, 0, 0, 0, 0, 0, 0, 0, 0, 0, 0, 0, 0, 0, 0, 0, 0, 0, 0, 0, 0, 0, 0, 0, 0, 0, 0, 0, 0, 0, 0, 0, 0, 0, 0, 0, 0, 0, 0, 0, 0, 0, 0, 0, 0, 0, 0, 0, 0, 0, 0, 0, 0, 0, 0, 0, 0, 0, 0, 0, 0, 0, 0, 0, 0, 0, 0, 0, 0, 0, 0, 0, 0, 0, 0, 0, 0, 0, 0, 0, 0, 0, 0, 0, 0, 0, 0, 0, 0, 0, 0, 0, 0, 0, 0, 0, 0, 0, 0, 0, 0, 0, 0, 0, 0, 0, 0, 0, 0, 0, 0, 0, 0, 0, 0, 0, 0, 0, 0, 0, 0, 0, 0, 0, 0, 0, 0, 0, 0, 0, 0, 0, 0, 0, 0, 0, 0, 0, 0, 0, 0, 0, 0, 0, 0, 0, 0, 0, 0, 0, 0, 0, 0, 0, 0, 0, 0, 0, 0, 0, 0, 0, 0, 0, 0, 0, 0, 0, 0, 0, 0, 0, 0, 0, 0, 0, 0, 0, 0, 0, 0, 0, 0, 0, 0, 0, 0, 0, 0, 0, 0, 0, 0, 0, 0, 0, 0, 0, 0, 0, 0, 0, 0, 0, 0, 0, 0, 0, 0, 0, 0, 0, 0, 0, 0, 0, 0, 0, 0, 0, 0, 0, 0, 0, 0, 0, 0, 0, 0, 0, 0, 0, 0, 0, 0, 0, 0, 0, 0, 0, 0, 0, 0, 0, 0, 0, 0, 0, 0, 0, 0, 0, 0, 0, 0, 0, 0, 0, 0, 0, 0, 0, 0, 0, 0, 0, 0, 0, 0, 0, 0, 0, 0, 0, 0, 0, 0, 0, 0, 0, 0, 0, 0, 0, 0, 0, 0, 0, 0, 0, 0, 0, 0, 0, 0, 0, 0, 0, 0, 0, 0, 0, 0, 0, 0, 0, 0, 0, 0, 0, 0, 0, 0, 0, 0, 0, 0]\n",
      "\n",
      "Example 4:\n",
      "Original: i gather praises new york city mayor eric adams and governor kathy hopeful for calling out joe vines border spots he visit the big apple this week explaining while new york leaders are right to pressure biden over his failure to secure the southern border the situation is worse in texas abbas stated under operation lone star they stopped two point three million illegal aliens from crossing the border and expect to point for more illegals to come this year an appeals court rejects donald trumps attempts at the lang his civil trial in new york in a ruling on thursday the judge decided the case will still be set to begin this coming monday this comes just after a federal judge found trump guilty of fraud on tuesday jeopardizing the status is of his business lessons in the empire state york attorney general the teacher james is requesting trump and members of his family to testify in court however the former president denies any wrongdoing and claims many of his assets\n",
      "Tokenized: [101, 178, 8422, 9010, 1116, 1207, 26063, 4661, 1331, 4398, 14044, 1596, 8050, 18450, 1105, 4066, 24181, 15644, 19953, 1111, 3516, 1149, 179, 7745, 20047, 3070, 7152, 1119, 3143, 1103, 1992, 12075, 1142, 1989, 10100, 1229, 1207, 26063, 4661, 3478, 1132, 1268, 1106, 2997, 6875, 1424, 1166, 1117, 4290, 1106, 5343, 1103, 2359, 3070, 1103, 2820, 1110, 4146, 1107, 21359, 20192, 1116, 170, 27261, 1116, 2202, 1223, 2805, 14936, 2851, 1152, 2141, 1160, 1553, 1210, 1550, 5696, 14498, 1121, 4905, 1103, 3070, 1105, 5363, 1106, 1553, 1111, 1167, 5696, 1116, 1106, 1435, 1142, 1214, 1126, 15996, 2175, 22961, 1274, 18728, 189, 27321, 1116, 4021, 1120, 1103, 2495, 2118, 1117, 2987, 3443, 1107, 1207, 26063, 4661, 1107, 170, 6550, 1113, 24438, 7719, 6194, 1103, 3942, 1879, 1103, 1692, 1209, 1253, 1129, 1383, 1106, 3295, 1142, 1909, 19863, 6194, 1142, 2502, 1198, 1170, 170, 2877, 3942, 1276, 189, 27321, 5425, 1104, 10258, 1113, 189, 10589, 6194, 179, 8209, 18573, 4404, 1103, 2781, 1110, 1104, 1117, 1671, 8497, 1107, 1103, 8207, 1352, 26063, 4661, 6507, 1704, 1103, 3218, 17462, 1279, 1110, 19458, 189, 27321, 1105, 1484, 1104, 1117, 1266, 1106, 22366, 1107, 2175, 1649, 1103, 1393, 2084, 26360, 1251, 2488, 2572, 1158, 1105, 3711, 1242, 1104, 1117, 6661, 102, 0, 0, 0, 0, 0, 0, 0, 0, 0, 0, 0, 0, 0, 0, 0, 0, 0, 0, 0, 0, 0, 0, 0, 0, 0, 0, 0, 0, 0, 0, 0, 0, 0, 0, 0, 0, 0, 0, 0, 0, 0, 0, 0, 0, 0, 0, 0, 0, 0, 0, 0, 0, 0, 0, 0, 0, 0, 0, 0, 0, 0, 0, 0, 0, 0, 0, 0, 0, 0, 0, 0, 0, 0, 0, 0, 0, 0, 0, 0, 0, 0, 0, 0, 0, 0, 0, 0, 0, 0, 0, 0, 0, 0, 0, 0, 0, 0, 0, 0, 0, 0, 0, 0, 0, 0, 0, 0, 0, 0, 0, 0, 0, 0, 0, 0, 0, 0, 0, 0, 0, 0, 0, 0, 0, 0, 0, 0, 0, 0, 0, 0, 0, 0, 0, 0, 0, 0, 0, 0, 0, 0, 0, 0, 0, 0, 0, 0, 0, 0, 0, 0, 0, 0, 0, 0, 0, 0, 0, 0, 0, 0, 0, 0, 0, 0, 0, 0, 0, 0, 0, 0, 0, 0, 0, 0, 0, 0, 0, 0, 0, 0, 0, 0, 0, 0, 0, 0, 0, 0, 0, 0, 0, 0, 0, 0, 0, 0, 0, 0, 0, 0, 0, 0, 0, 0, 0, 0, 0, 0, 0, 0, 0, 0, 0, 0, 0, 0, 0, 0, 0, 0, 0, 0, 0, 0, 0, 0, 0, 0, 0, 0, 0, 0, 0, 0, 0, 0, 0, 0, 0, 0, 0, 0, 0, 0, 0, 0, 0, 0, 0, 0, 0, 0, 0, 0, 0, 0, 0, 0, 0, 0, 0, 0, 0, 0, 0, 0, 0, 0, 0, 0, 0, 0, 0, 0, 0, 0, 0, 0, 0, 0, 0, 0, 0, 0, 0, 0, 0, 0, 0, 0, 0, 0, 0, 0, 0, 0, 0, 0, 0, 0, 0, 0, 0, 0, 0]\n",
      "\n",
      "Example 5:\n",
      "Original: vote no on issue 1 at\n",
      "Tokenized: [101, 2992, 1185, 1113, 2486, 122, 1120, 102, 0, 0, 0, 0, 0, 0, 0, 0, 0, 0, 0, 0, 0, 0, 0, 0, 0, 0, 0, 0, 0, 0, 0, 0, 0, 0, 0, 0, 0, 0, 0, 0, 0, 0, 0, 0, 0, 0, 0, 0, 0, 0, 0, 0, 0, 0, 0, 0, 0, 0, 0, 0, 0, 0, 0, 0, 0, 0, 0, 0, 0, 0, 0, 0, 0, 0, 0, 0, 0, 0, 0, 0, 0, 0, 0, 0, 0, 0, 0, 0, 0, 0, 0, 0, 0, 0, 0, 0, 0, 0, 0, 0, 0, 0, 0, 0, 0, 0, 0, 0, 0, 0, 0, 0, 0, 0, 0, 0, 0, 0, 0, 0, 0, 0, 0, 0, 0, 0, 0, 0, 0, 0, 0, 0, 0, 0, 0, 0, 0, 0, 0, 0, 0, 0, 0, 0, 0, 0, 0, 0, 0, 0, 0, 0, 0, 0, 0, 0, 0, 0, 0, 0, 0, 0, 0, 0, 0, 0, 0, 0, 0, 0, 0, 0, 0, 0, 0, 0, 0, 0, 0, 0, 0, 0, 0, 0, 0, 0, 0, 0, 0, 0, 0, 0, 0, 0, 0, 0, 0, 0, 0, 0, 0, 0, 0, 0, 0, 0, 0, 0, 0, 0, 0, 0, 0, 0, 0, 0, 0, 0, 0, 0, 0, 0, 0, 0, 0, 0, 0, 0, 0, 0, 0, 0, 0, 0, 0, 0, 0, 0, 0, 0, 0, 0, 0, 0, 0, 0, 0, 0, 0, 0, 0, 0, 0, 0, 0, 0, 0, 0, 0, 0, 0, 0, 0, 0, 0, 0, 0, 0, 0, 0, 0, 0, 0, 0, 0, 0, 0, 0, 0, 0, 0, 0, 0, 0, 0, 0, 0, 0, 0, 0, 0, 0, 0, 0, 0, 0, 0, 0, 0, 0, 0, 0, 0, 0, 0, 0, 0, 0, 0, 0, 0, 0, 0, 0, 0, 0, 0, 0, 0, 0, 0, 0, 0, 0, 0, 0, 0, 0, 0, 0, 0, 0, 0, 0, 0, 0, 0, 0, 0, 0, 0, 0, 0, 0, 0, 0, 0, 0, 0, 0, 0, 0, 0, 0, 0, 0, 0, 0, 0, 0, 0, 0, 0, 0, 0, 0, 0, 0, 0, 0, 0, 0, 0, 0, 0, 0, 0, 0, 0, 0, 0, 0, 0, 0, 0, 0, 0, 0, 0, 0, 0, 0, 0, 0, 0, 0, 0, 0, 0, 0, 0, 0, 0, 0, 0, 0, 0, 0, 0, 0, 0, 0, 0, 0, 0, 0, 0, 0, 0, 0, 0, 0, 0, 0, 0, 0, 0, 0, 0, 0, 0, 0, 0, 0, 0, 0, 0, 0, 0, 0, 0, 0, 0, 0, 0, 0, 0, 0, 0, 0, 0, 0, 0, 0, 0, 0, 0, 0, 0, 0, 0, 0, 0, 0, 0, 0, 0, 0, 0, 0, 0, 0, 0, 0, 0, 0, 0, 0, 0, 0, 0, 0, 0, 0, 0, 0, 0, 0, 0, 0, 0, 0, 0, 0, 0, 0, 0, 0, 0, 0, 0, 0, 0, 0, 0, 0, 0, 0, 0, 0, 0, 0]\n",
      "\n"
     ]
    }
   ],
   "source": [
    "# Print the first few examples of tokenized training data\n",
    "for i in range(5):\n",
    "    print(f\"Example {i+1}:\")\n",
    "    print(\"Original:\", X_train.iloc[i])\n",
    "    print(\"Tokenized:\", X_train_tokens['input_ids'][i])\n",
    "    print()\n"
   ]
  },
  {
   "cell_type": "code",
   "execution_count": 20,
   "metadata": {},
   "outputs": [
    {
     "name": "stderr",
     "output_type": "stream",
     "text": [
      "Some weights of BertForSequenceClassification were not initialized from the model checkpoint at bert-base-cased and are newly initialized: ['classifier.bias', 'classifier.weight']\n",
      "You should probably TRAIN this model on a down-stream task to be able to use it for predictions and inference.\n"
     ]
    }
   ],
   "source": [
    "import torch\n",
    "from transformers import AutoModelForSequenceClassification\n",
    "\n",
    "device = torch.device(\"cuda\" if torch.cuda.is_available() else \"cpu\")\n",
    "num_labels = 2  # 2 labels: 0 for non-ads, 1 for ads\n",
    "\n",
    "model = (AutoModelForSequenceClassification\n",
    "         .from_pretrained(checkpoint, num_labels=num_labels)\n",
    "         .to(device))\n"
   ]
  },
  {
   "cell_type": "code",
   "execution_count": 27,
   "metadata": {},
   "outputs": [],
   "source": [
    "# from torch.utils.data import DataLoader\n",
    "# train_loader = DataLoader(X_train_tokens, batch_size=16, shuffle=True)\n",
    "# optimizer = torch.optim.AdamW(model.parameters(), lr=1e-5)\n",
    "# num_epochs = 3\n",
    "\n",
    "# # Training loop\n",
    "# model.train()\n",
    "# for epoch in range(num_epochs):\n",
    "#     for batch in train_loader:\n",
    "#         optimizer.zero_grad()\n",
    "#         input_ids = batch['input_ids'].to(device)\n",
    "#         attention_mask = batch['attention_mask'].to(device)\n",
    "#         labels = batch['labels'].to(device)\n",
    "#         outputs = model(input_ids, attention_mask=attention_mask, labels=labels)\n",
    "#         loss = outputs.loss\n",
    "#         loss.backward()\n",
    "#         optimizer.step()\n",
    "\n",
    "# Save or deploy your fine-tuned model for inference"
   ]
  },
  {
   "cell_type": "code",
   "execution_count": 25,
   "metadata": {},
   "outputs": [],
   "source": [
    "from transformers import Trainer, TrainingArguments"
   ]
  },
  {
   "cell_type": "code",
   "execution_count": 23,
   "metadata": {},
   "outputs": [
    {
     "data": {
      "text/plain": [
       "6778"
      ]
     },
     "execution_count": 23,
     "metadata": {},
     "output_type": "execute_result"
    }
   ],
   "source": [
    "batch_size = 16\n",
    "logging_steps = len(X_train) // batch_size\n",
    "logging_steps"
   ]
  },
  {
   "cell_type": "code",
   "execution_count": 26,
   "metadata": {},
   "outputs": [],
   "source": [
    "# Define the training arguments\n",
    "batch_size = 16\n",
    "logging_steps = len(X_train) // batch_size\n",
    "model_name = f\"{checkpoint}-finetuned-ad-classifier\"\n",
    "training_args = TrainingArguments(output_dir=model_name,\n",
    "                                  num_train_epochs=2,\n",
    "                                  learning_rate=2e-5,\n",
    "                                  per_device_train_batch_size=batch_size,\n",
    "                                  per_device_eval_batch_size=batch_size,\n",
    "                                  weight_decay=0.01,\n",
    "                                  eval_strategy=\"epoch\",\n",
    "                                  disable_tqdm=False,\n",
    "                                  logging_steps=logging_steps,\n",
    "                                  log_level=\"error\",\n",
    "                                  optim='adamw_torch'\n",
    "                                  )"
   ]
  },
  {
   "cell_type": "code",
   "execution_count": null,
   "metadata": {},
   "outputs": [],
   "source": [
    "from transformers import Trainer\n",
    "\n",
    "torch.cuda.empty_cache()\n",
    "\n",
    "trainer = Trainer(model=model, \n",
    "                  args=training_args, \n",
    "                  compute_metrics=get_accuracy,\n",
    "                  train_dataset=X_train_tokens,\n",
    "                  eval_dataset=imdb_encoded[\"validation\"],\n",
    "                  tokenizer=tokenizer)\n",
    "trainer.train()"
   ]
  }
 ],
 "metadata": {
  "kernelspec": {
   "display_name": "Python 3",
   "language": "python",
   "name": "python3"
  },
  "language_info": {
   "codemirror_mode": {
    "name": "ipython",
    "version": 3
   },
   "file_extension": ".py",
   "mimetype": "text/x-python",
   "name": "python",
   "nbconvert_exporter": "python",
   "pygments_lexer": "ipython3",
   "version": "3.11.7"
  }
 },
 "nbformat": 4,
 "nbformat_minor": 2
}
