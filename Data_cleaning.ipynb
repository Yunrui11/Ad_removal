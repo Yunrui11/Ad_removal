{
 "cells": [
  {
   "cell_type": "markdown",
   "metadata": {},
   "source": [
    "## Data Cleaning: "
   ]
  },
  {
   "cell_type": "markdown",
   "metadata": {},
   "source": [
    "### Import Data: "
   ]
  },
  {
   "cell_type": "code",
   "execution_count": 23,
   "metadata": {},
   "outputs": [
    {
     "name": "stderr",
     "output_type": "stream",
     "text": [
      "C:\\Users\\rbao\\AppData\\Local\\Temp\\ipykernel_3060\\936936351.py:3: DtypeWarning: Columns (2,3,4,5,6,7,8,9,10,11,12,13,14,15,16,17,18,19,20,21,22,23,24,25,26,27,28,29,30,31,32,33,34,35,36,37,38,39,40,41,42,43,44,45,46,47,48,49,50,51,52,53,54,55,56,57,58,59,60,61,62,63,64,65,66,67,68,69,70,71,72,73,74,75,76,77,78,79,80,81) have mixed types. Specify dtype option on import or set low_memory=False.\n",
      "  df_ads = pd.read_csv('ads_nonads.csv')\n"
     ]
    }
   ],
   "source": [
    "import pandas as pd\n",
    "\n",
    "df_ads = pd.read_csv('ads_nonads.csv')\n",
    "\n",
    "# SELECT cc_text, ad FROM ads_nonads\n",
    "df_ads = df_ads[[\"cc_text\", \"ad\"]]"
   ]
  },
  {
   "cell_type": "code",
   "execution_count": 24,
   "metadata": {},
   "outputs": [
    {
     "name": "stdout",
     "output_type": "stream",
     "text": [
      "                                             cc_text ad\n",
      "0  cold-like symptoms, they will just give you an...  0\n",
      "1  Thirty percent of the world's <span class=\"hig...  0\n",
      "2  the last few years has been really shocking an...  0\n",
      "3  in. when the tree is harvested and turned into...  0\n",
      "4  >> as a teacher, the one that scared me the mo...  0\n",
      "(167145, 2)\n",
      "<class 'pandas.core.frame.DataFrame'>\n",
      "RangeIndex: 167145 entries, 0 to 167144\n",
      "Data columns (total 2 columns):\n",
      " #   Column   Non-Null Count   Dtype \n",
      "---  ------   --------------   ----- \n",
      " 0   cc_text  167143 non-null  object\n",
      " 1   ad       167143 non-null  object\n",
      "dtypes: object(2)\n",
      "memory usage: 2.6+ MB\n",
      "None\n"
     ]
    }
   ],
   "source": [
    "print(df_ads.head())\n",
    "print(df_ads.shape)\n",
    "print(df_ads.info())"
   ]
  },
  {
   "cell_type": "markdown",
   "metadata": {},
   "source": [
    "### Cleaning"
   ]
  },
  {
   "cell_type": "code",
   "execution_count": 25,
   "metadata": {},
   "outputs": [
    {
     "name": "stdout",
     "output_type": "stream",
     "text": [
      "(167141, 2)\n",
      "(150667, 2)\n",
      "(135566, 2)\n"
     ]
    }
   ],
   "source": [
    "# drop rows with any missing values\n",
    "df_ads = df_ads.dropna()\n",
    "print(df_ads.shape)\n",
    "# drop duplicate rows\n",
    "df_ads = df_ads.drop_duplicates()\n",
    "print(df_ads.shape)\n",
    "# drop rows where 'ad' is not 0 or 1\n",
    "df_ads = df_ads[df_ads['ad'].isin([0, 1])]\n",
    "print(df_ads.shape)\n",
    "\n",
    "# Convert 'cc_text' column to string\n",
    "df_ads['cc_text'] = df_ads['cc_text'].astype(str)\n",
    "\n",
    "# Convert 'ad' column to integer\n",
    "df_ads['ad'] = df_ads['ad'].astype(int)"
   ]
  },
  {
   "cell_type": "code",
   "execution_count": 27,
   "metadata": {},
   "outputs": [
    {
     "name": "stdout",
     "output_type": "stream",
     "text": [
      "ad\n",
      "1    77795\n",
      "0    57771\n",
      "Name: count, dtype: int64\n"
     ]
    }
   ],
   "source": [
    "# data check after cleaning\n",
    "print(df_ads[\"ad\"].value_counts())"
   ]
  },
  {
   "cell_type": "code",
   "execution_count": 31,
   "metadata": {},
   "outputs": [
    {
     "name": "stdout",
     "output_type": "stream",
     "text": [
      "                                              cc_text  ad\n",
      "11  I've lost count of how many asthma attacks I'v...   1\n",
      "13  headache, and injection reactions. Ready for a...   1\n",
      "14  ? One SodaStream bottle can save... i don't kn...   1\n",
      "19  ? Hello, Sharks. My name is Tracy Rosensteel, ...   1\n",
      "20  And Joe Biden's weakness makes it even worse. ...   1\n",
      "                                             cc_text  ad\n",
      "0  cold-like symptoms, they will just give you an...   0\n",
      "1  Thirty percent of the world's <span class=\"hig...   0\n",
      "2  the last few years has been really shocking an...   0\n",
      "3  in. when the tree is harvested and turned into...   0\n",
      "4  >> as a teacher, the one that scared me the mo...   0\n"
     ]
    }
   ],
   "source": [
    "# print our the head of the data when ad is 1\n",
    "print(df_ads[df_ads[\"ad\"] == 1].head())\n",
    "\n",
    "# print our the head of the data when ad is 0\n",
    "print(df_ads[df_ads[\"ad\"] == 0].head())"
   ]
  },
  {
   "cell_type": "markdown",
   "metadata": {},
   "source": [
    "#### This dataset is relatively balanced now, so we do text cleaning"
   ]
  },
  {
   "cell_type": "code",
   "execution_count": 32,
   "metadata": {},
   "outputs": [
    {
     "data": {
      "text/plain": [
       "'Thirty percent of the world\\'s <span class=\"highlight\">oceans</span> and and by twenty thirty introducing controls on invasive species and <span class=\"highlight\">reducing</span> <span class=\"highlight\">plastic</span> <span class=\"highlight\">pollution</span> officials insist they can agree ambitious plans to transform our relationship with bio divest E. And ensure that by twenty fifty we obtained a shed vision of living in harmony with nature it all sounds good in theory doesn\\'t it but just how realistic other goals lost here the world was stunned when united nations reported the world leaders had failed to meet a single bio diverse city target agreed unite she in twenty ten and I just can\\'t be acceptable this time around the scientists claim that now humans are causing the six mass extinction event in the history of <span class=\"highlight\">planet</span> and twenty twenty world economic forum business leaders said by divest you dos was the third biggest risk to the well in terms of likelihood and severity behind only <span class=\"highlight\">climate</span> <span class=\"highlight\">change</span> failure and weapons'"
      ]
     },
     "execution_count": 32,
     "metadata": {},
     "output_type": "execute_result"
    }
   ],
   "source": [
    "df_ads[\"cc_text\"][1]"
   ]
  },
  {
   "cell_type": "code",
   "execution_count": 33,
   "metadata": {},
   "outputs": [
    {
     "data": {
      "text/plain": [
       "'>> as a teacher, the one that scared me the most. affected their ability to learn. >> inexpensive and effective <span class=\"highlight\">pesticide</span> considered essential by the industry. widely used on farms in 45 states to grow food, wheat every day. ingested the residue and food, <span class=\"highlight\">water</span> <span class=\"highlight\">contamination</span> and when it is sprayed and fields and trees and then carried in the wind. >> the draft that happens goes into their mouth and bodies. >> sarah says in many areas almost no buffer of protection between fields, schools and homes. >> the risk of <span class=\"highlight\">pesticides</span> are too much.> studies show it can impact brain development in children. lower iqs, disabilities, disorders like adhd. >> very very <span class=\"highlight\">toxic</span> <span class=\"highlight\">chemical</span>. very concerned about it. >> contacted lobbying groups, written in support, as well as'"
      ]
     },
     "execution_count": 33,
     "metadata": {},
     "output_type": "execute_result"
    }
   ],
   "source": [
    "df_ads[\"cc_text\"][4]"
   ]
  },
  {
   "cell_type": "code",
   "execution_count": 42,
   "metadata": {},
   "outputs": [],
   "source": [
    "import re\n",
    "\n",
    "def clean_text(text):\n",
    "    #  Remove everything within HTML tags\n",
    "    text = re.sub(r'<.*?>', '', text)\n",
    "    # Remove special characters\n",
    "    text = re.sub(r'[^A-Za-z0-9\\s]', '', text)\n",
    "    # Convert text to lowercase\n",
    "    text = text.lower()\n",
    "    # Remove extra spaces\n",
    "    text = re.sub(r'\\s+', ' ', text).strip()\n",
    "    \n",
    "    return text\n"
   ]
  },
  {
   "cell_type": "code",
   "execution_count": 44,
   "metadata": {},
   "outputs": [
    {
     "name": "stdout",
     "output_type": "stream",
     "text": [
      "thirty percent of the worlds oceans and and by twenty thirty introducing controls on invasive species and reducing plastic pollution officials insist they can agree ambitious plans to transform our relationship with bio divest e and ensure that by twenty fifty we obtained a shed vision of living in harmony with nature it all sounds good in theory doesnt it but just how realistic other goals lost here the world was stunned when united nations reported the world leaders had failed to meet a single bio diverse city target agreed unite she in twenty ten and i just cant be acceptable this time around the scientists claim that now humans are causing the six mass extinction event in the history of planet and twenty twenty world economic forum business leaders said by divest you dos was the third biggest risk to the well in terms of likelihood and severity behind only climate change failure and weapons\n"
     ]
    }
   ],
   "source": [
    "sample_1 = clean_text(df_ads[\"cc_text\"][1])\n",
    "print(sample_1)"
   ]
  },
  {
   "cell_type": "code",
   "execution_count": 45,
   "metadata": {},
   "outputs": [
    {
     "name": "stdout",
     "output_type": "stream",
     "text": [
      "as a teacher the one that scared me the most affected their ability to learn inexpensive and effective pesticide considered essential by the industry widely used on farms in 45 states to grow food wheat every day ingested the residue and food water contamination and when it is sprayed and fields and trees and then carried in the wind the draft that happens goes into their mouth and bodies sarah says in many areas almost no buffer of protection between fields schools and homes the risk of pesticides are too much studies show it can impact brain development in children lower iqs disabilities disorders like adhd very very toxic chemical very concerned about it contacted lobbying groups written in support as well as\n"
     ]
    }
   ],
   "source": [
    "sample_2 = clean_text(df_ads[\"cc_text\"][4])\n",
    "print(sample_2)"
   ]
  },
  {
   "cell_type": "code",
   "execution_count": 46,
   "metadata": {},
   "outputs": [],
   "source": [
    "# Apply clean_text function to cc_text column\n",
    "df_ads[\"cc_text\"] = df_ads[\"cc_text\"].apply(clean_text)"
   ]
  },
  {
   "cell_type": "code",
   "execution_count": 47,
   "metadata": {},
   "outputs": [
    {
     "data": {
      "text/plain": [
       "0    coldlike symptoms they will just give you an a...\n",
       "1    thirty percent of the worlds oceans and and by...\n",
       "2    the last few years has been really shocking an...\n",
       "3    in when the tree is harvested and turned into ...\n",
       "4    as a teacher the one that scared me the most a...\n",
       "Name: cc_text, dtype: object"
      ]
     },
     "execution_count": 47,
     "metadata": {},
     "output_type": "execute_result"
    }
   ],
   "source": [
    "df_ads[\"cc_text\"].head()"
   ]
  },
  {
   "cell_type": "markdown",
   "metadata": {},
   "source": [
    "### Train-test split"
   ]
  },
  {
   "cell_type": "code",
   "execution_count": 48,
   "metadata": {},
   "outputs": [
    {
     "name": "stdout",
     "output_type": "stream",
     "text": [
      "Training set size: (108452,) (108452,)\n",
      "Testing set size: (27114,) (27114,)\n"
     ]
    }
   ],
   "source": [
    "from sklearn.model_selection import train_test_split\n",
    "\n",
    "# Split the data into features and target\n",
    "X = df_ads[\"cc_text\"]\n",
    "y = df_ads[\"ad\"]\n",
    "\n",
    "# Split the data into training and testing sets\n",
    "X_train, X_test, y_train, y_test = train_test_split(X, y, test_size=0.2, random_state=42)\n",
    "\n",
    "# Print the shapes of the resulting datasets to verify\n",
    "print(\"Training set size:\", X_train.shape, y_train.shape)\n",
    "print(\"Testing set size:\", X_test.shape, y_test.shape)"
   ]
  },
  {
   "cell_type": "markdown",
   "metadata": {},
   "source": [
    "### Now you can use training dataset to build your model and text dataset to test the model performance. If you like an additional validation dataset, you can further split the training dataset. "
   ]
  }
 ],
 "metadata": {
  "kernelspec": {
   "display_name": "Python 3",
   "language": "python",
   "name": "python3"
  },
  "language_info": {
   "codemirror_mode": {
    "name": "ipython",
    "version": 3
   },
   "file_extension": ".py",
   "mimetype": "text/x-python",
   "name": "python",
   "nbconvert_exporter": "python",
   "pygments_lexer": "ipython3",
   "version": "3.11.7"
  }
 },
 "nbformat": 4,
 "nbformat_minor": 2
}
